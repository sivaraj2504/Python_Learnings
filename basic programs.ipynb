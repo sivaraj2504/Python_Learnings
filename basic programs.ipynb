{
 "cells": [
  {
   "cell_type": "markdown",
   "metadata": {},
   "source": [
    "# 1. What is factorial?\n",
    "\n",
    "- Factorial is a non-negative integer. It is the product of all positive integers less than or equal to that number you ask for factorial. It is denoted by an exclamation sign (!)\n",
    "\n",
    "# Example:\n",
    "\n",
    "n! = n* (n-1) * (n-2) *........1  \n",
    "4! = 4x3x2x1 = 24    "
   ]
  },
  {
   "cell_type": "code",
   "execution_count": 1,
   "metadata": {},
   "outputs": [
    {
     "name": "stdout",
     "output_type": "stream",
     "text": [
      "Enter a number: 5\n",
      "The factorial of 5 is 120\n"
     ]
    }
   ],
   "source": [
    "num = int(input(\"Enter a number: \"))    \n",
    "factorial = 1    \n",
    "if num < 0:    \n",
    "   print(\"Factorial does not exist for negative numbers\")    \n",
    "elif num == 0:    \n",
    "   print(\"The factorial of 0 is 1\")    \n",
    "else:    \n",
    "   for i in range(1,num + 1):    \n",
    "       factorial = factorial*i    \n",
    "   print(\"The factorial of\",num,\"is\",factorial)  "
   ]
  },
  {
   "cell_type": "markdown",
   "metadata": {},
   "source": [
    "## Using built-in function\n",
    " - We will use the math module, which provides the built-in factorial() method."
   ]
  },
  {
   "cell_type": "code",
   "execution_count": 2,
   "metadata": {},
   "outputs": [
    {
     "name": "stdout",
     "output_type": "stream",
     "text": [
      "Enter the number:4\n",
      "Factorial of 4 is 24\n"
     ]
    }
   ],
   "source": [
    "import math  \n",
    "def fact(n):  \n",
    "    return(math.factorial(n))  \n",
    "  \n",
    "num = int(input(\"Enter the number:\"))  \n",
    "f = fact(num)  \n",
    "print(\"Factorial of\", num, \"is\", f)  "
   ]
  },
  {
   "cell_type": "code",
   "execution_count": 3,
   "metadata": {},
   "outputs": [
    {
     "name": "stdout",
     "output_type": "stream",
     "text": [
      "Enter a Number :5\n",
      "120\n"
     ]
    }
   ],
   "source": [
    "import math\n",
    "n=int(input(\"Enter a Number :\"))\n",
    "print(math.factorial(n))"
   ]
  },
  {
   "cell_type": "markdown",
   "metadata": {},
   "source": [
    "# 2.Python Program to check if a Number is Positive, Negative or Zero\n",
    "\n",
    "- Positive Numbers: A number is known as a positive number if it has a greater value than zero. i.e. 1, 2, 3, 4 etc.\n",
    "\n",
    "- Negative Numbers: A number is known as a negative number if it has a lesser value than zero. i.e. -1, -2, -3, -4 etc.\n",
    "\n"
   ]
  },
  {
   "cell_type": "code",
   "execution_count": 15,
   "metadata": {},
   "outputs": [
    {
     "name": "stdout",
     "output_type": "stream",
     "text": [
      "Enter a number: 4\n",
      "4 is a positive number\n"
     ]
    }
   ],
   "source": [
    "num = int(input(\"Enter a number: \"))  \n",
    "\n",
    "if num > 0:  \n",
    " print(\"{0} is a positive number\".format(num))  \n",
    "elif num == 0:  \n",
    "   print(\"{0} is zero\".format(num))   \n",
    "else:  \n",
    "   print(\"{0} is negative number\".format(num)) "
   ]
  },
  {
   "cell_type": "markdown",
   "metadata": {},
   "source": [
    "# 3.Python Program to Check if a Number is Odd or Even\n",
    "\n",
    "- If you divide a number by 2 and it gives a remainder of 0 then it is known as even number, otherwise an odd number.\n",
    "\n",
    "Even number examples: 2, 4, 6, 8, 10, etc.\n",
    "\n",
    "Odd number examples:1, 3, 5, 7, 9 etc."
   ]
  },
  {
   "cell_type": "code",
   "execution_count": 16,
   "metadata": {},
   "outputs": [
    {
     "name": "stdout",
     "output_type": "stream",
     "text": [
      "Enter a number: 5\n",
      "5 is Odd number\n"
     ]
    }
   ],
   "source": [
    "num = int(input(\"Enter a number: \"))  \n",
    "if (num % 2) == 0:  \n",
    "   print(\"{0} is Even number\".format(num))  \n",
    "else:  \n",
    "   print(\"{0} is Odd number\".format(num)) "
   ]
  },
  {
   "cell_type": "markdown",
   "metadata": {},
   "source": [
    "# 4.Python Program to Check Leap Year\n",
    "Leap Year:\n",
    "\n",
    "A year is called a leap year if it contains an additional day which makes the number of the days in that year is 366. This additional day is added in February which makes it 29 days long.\n",
    "\n",
    "A leap year occurred once every 4 years."
   ]
  },
  {
   "cell_type": "code",
   "execution_count": 17,
   "metadata": {},
   "outputs": [
    {
     "name": "stdout",
     "output_type": "stream",
     "text": [
      "Enter a year: 2003\n",
      "2003 is not a leap year\n"
     ]
    }
   ],
   "source": [
    "year = int(input(\"Enter a year: \"))  \n",
    "if (year % 4) == 0:  \n",
    "   if (year % 100) == 0:  \n",
    "       if (year % 400) == 0:  \n",
    "           print(\"{0} is a leap year\".format(year))  \n",
    "       else:  \n",
    "           print(\"{0} is not a leap year\".format(year))  \n",
    "   else:  \n",
    "       print(\"{0} is a leap year\".format(year))  \n",
    "else:  \n",
    "   print(\"{0} is not a leap year\".format(year))  "
   ]
  },
  {
   "cell_type": "code",
   "execution_count": null,
   "metadata": {},
   "outputs": [],
   "source": []
  }
 ],
 "metadata": {
  "kernelspec": {
   "display_name": "Python 3",
   "language": "python",
   "name": "python3"
  },
  "language_info": {
   "codemirror_mode": {
    "name": "ipython",
    "version": 3
   },
   "file_extension": ".py",
   "mimetype": "text/x-python",
   "name": "python",
   "nbconvert_exporter": "python",
   "pygments_lexer": "ipython3",
   "version": "3.8.5"
  }
 },
 "nbformat": 4,
 "nbformat_minor": 4
}
